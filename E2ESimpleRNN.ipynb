{
 "cells": [
  {
   "cell_type": "code",
   "execution_count": 51,
   "metadata": {},
   "outputs": [],
   "source": [
    "import numpy as np\n",
    "import torch\n",
    "from datasets import load_dataset\n",
    "import torch.nn as nn\n",
    "from torch.utils.data import DataLoader, TensorDataset\n",
    "from tensorflow.keras.preprocessing.text import Tokenizer # type: ignore\n",
    "from tensorflow.keras.preprocessing.sequence import pad_sequences # type: ignore"
   ]
  },
  {
   "cell_type": "code",
   "execution_count": 52,
   "metadata": {},
   "outputs": [],
   "source": [
    "dataset = load_dataset(\"imdb\")"
   ]
  },
  {
   "cell_type": "code",
   "execution_count": 72,
   "metadata": {},
   "outputs": [],
   "source": [
    "X_train = dataset[\"train\"][\"text\"]\n",
    "y_train = dataset[\"train\"][\"label\"] \n",
    "X_test = dataset[\"test\"][\"text\"]\n",
    "y_test = dataset[\"test\"][\"label\"]"
   ]
  },
  {
   "cell_type": "code",
   "execution_count": 73,
   "metadata": {},
   "outputs": [
    {
     "data": {
      "text/plain": [
       "'I rented I AM CURIOUS-YELLOW from my video store because of all the controversy that surrounded it when it was first released in 1967. I also heard that at first it was seized by U.S. customs if it ever tried to enter this country, therefore being a fan of films considered \"controversial\" I really had to see this for myself.<br /><br />The plot is centered around a young Swedish drama student named Lena who wants to learn everything she can about life. In particular she wants to focus her attentions to making some sort of documentary on what the average Swede thought about certain political issues such as the Vietnam War and race issues in the United States. In between asking politicians and ordinary denizens of Stockholm about their opinions on politics, she has sex with her drama teacher, classmates, and married men.<br /><br />What kills me about I AM CURIOUS-YELLOW is that 40 years ago, this was considered pornographic. Really, the sex and nudity scenes are few and far between, even then it\\'s not shot like some cheaply made porno. While my countrymen mind find it shocking, in reality sex and nudity are a major staple in Swedish cinema. Even Ingmar Bergman, arguably their answer to good old boy John Ford, had sex scenes in his films.<br /><br />I do commend the filmmakers for the fact that any sex shown in the film is shown for artistic purposes rather than just to shock people and make money to be shown in pornographic theaters in America. I AM CURIOUS-YELLOW is a good film for anyone wanting to study the meat and potatoes (no pun intended) of Swedish cinema. But really, this film doesn\\'t have much of a plot.'"
      ]
     },
     "execution_count": 73,
     "metadata": {},
     "output_type": "execute_result"
    }
   ],
   "source": [
    "X_train[0]"
   ]
  },
  {
   "cell_type": "code",
   "execution_count": 74,
   "metadata": {},
   "outputs": [],
   "source": [
    "tokenizer = Tokenizer()\n",
    "tokenizer.fit_on_texts(X_train)"
   ]
  },
  {
   "cell_type": "code",
   "execution_count": 75,
   "metadata": {},
   "outputs": [],
   "source": [
    "X_train_seq = tokenizer.texts_to_sequences(X_train)\n",
    "X_train_padded = pad_sequences(X_train_seq, maxlen=300, padding=\"pre\")\n",
    "X_train_tensor = torch.tensor(X_train_padded)\n",
    "\n",
    "\n",
    "X_test_seq = tokenizer.texts_to_sequences(X_test)\n",
    "X_test_padded = pad_sequences(X_test_seq, maxlen=300, padding=\"pre\")\n",
    "X_test_tensor = torch.tensor(X_test_padded)"
   ]
  },
  {
   "cell_type": "code",
   "execution_count": 76,
   "metadata": {},
   "outputs": [
    {
     "name": "stdout",
     "output_type": "stream",
     "text": [
      "tensor([   0,    0,    0,    0,    0,   10, 1605,   10,  241, 1992, 4174,   36,\n",
      "          58,  371, 1127,   85,    4,   29,    1, 7093], dtype=torch.int32)\n",
      "torch.Size([25000, 300])\n"
     ]
    }
   ],
   "source": [
    "print(X_train_tensor[0][:20])\n",
    "print(X_train_tensor.shape)"
   ]
  },
  {
   "cell_type": "code",
   "execution_count": 77,
   "metadata": {},
   "outputs": [],
   "source": [
    "reversed_word_index = tokenizer.index_word"
   ]
  },
  {
   "cell_type": "code",
   "execution_count": 78,
   "metadata": {},
   "outputs": [
    {
     "data": {
      "text/plain": [
       "tensor([   0,    0,    0,    0,    0,   10, 1605,   10,  241, 1992],\n",
       "       dtype=torch.int32)"
      ]
     },
     "execution_count": 78,
     "metadata": {},
     "output_type": "execute_result"
    }
   ],
   "source": [
    "sample_review = X_train_tensor[0]\n",
    "sample_label = y_train[0]\n",
    "\n",
    "sample_review[:10]"
   ]
  },
  {
   "cell_type": "code",
   "execution_count": 79,
   "metadata": {},
   "outputs": [
    {
     "data": {
      "text/plain": [
       "\"? ? ? ? ? i rented i am curious yellow from my video store because of all the controversy that surrounded it when it was first released in 1967 i also heard that at first it was seized by u s customs if it ever tried to enter this country therefore being a fan of films considered controversial i really had to see this for myself br br the plot is centered around a young swedish drama student named lena who wants to learn everything she can about life in particular she wants to focus her attentions to making some sort of documentary on what the average swede thought about certain political issues such as the vietnam war and race issues in the united states in between asking politicians and ordinary denizens of stockholm about their opinions on politics she has sex with her drama teacher classmates and married men br br what kills me about i am curious yellow is that 40 years ago this was considered pornographic really the sex and nudity scenes are few and far between even then it's not shot like some cheaply made porno while my countrymen mind find it shocking in reality sex and nudity are a major staple in swedish cinema even ingmar bergman arguably their answer to good old boy john ford had sex scenes in his films br br i do commend the filmmakers for the fact that any sex shown in the film is shown for artistic purposes rather than just to shock people and make money to be shown in pornographic theaters in america i am curious yellow is a good film for anyone wanting to study the meat and potatoes no pun intended of swedish cinema but really this film doesn't have much of a plot\""
      ]
     },
     "execution_count": 79,
     "metadata": {},
     "output_type": "execute_result"
    }
   ],
   "source": [
    "decoded_text = \" \".join([reversed_word_index.get(int(i),'?') for i in sample_review])\n",
    "decoded_text\n",
    "\n",
    "# for i in sample_review:\n",
    "#     print(reversed_word_index.get(int(i),0))\n",
    "\n",
    "\n",
    "# reversed_word_index[12]"
   ]
  },
  {
   "cell_type": "code",
   "execution_count": 80,
   "metadata": {},
   "outputs": [],
   "source": [
    "# input_ids = X_train_tokens[\"input_ids\"]\n",
    "labels = torch.tensor(y_train)\n",
    "dataset = TensorDataset(X_train_tensor, labels)\n",
    "\n",
    "batch_size = 32\n",
    "train_loader = DataLoader(dataset, batch_size=batch_size, shuffle=True)\n",
    "\n",
    "labels = torch.tensor(y_test)\n",
    "dataset = TensorDataset(X_test_tensor, labels)\n",
    "\n",
    "test_loader = DataLoader(dataset, batch_size=batch_size, shuffle=True)\n"
   ]
  },
  {
   "cell_type": "code",
   "execution_count": 81,
   "metadata": {},
   "outputs": [],
   "source": [
    "vocab_size = len(tokenizer.word_index) + 1  # +1 for padding index"
   ]
  },
  {
   "cell_type": "code",
   "execution_count": 94,
   "metadata": {},
   "outputs": [],
   "source": [
    "#RNN\n",
    "class RNN(nn.Module):\n",
    "\n",
    "    def __init__(self,vocab_size,embed_dim=128,hidden_dim=256,num_classes=1):\n",
    "        super().__init__()\n",
    "        self.embedding = nn.Embedding(vocab_size,embed_dim)\n",
    "        self.rnn = nn.RNN(embed_dim,hidden_dim,batch_first=True)\n",
    "        self.linear = nn.Linear(hidden_dim,num_classes)\n",
    "    \n",
    "    def forward(self,x):\n",
    "\n",
    "        x = self.embedding(x)\n",
    "        out,_ = self.rnn(x)\n",
    "        out = out[:,-1,:]\n",
    "        out = self.linear(out)\n",
    "        return out\n"
   ]
  },
  {
   "cell_type": "code",
   "execution_count": 95,
   "metadata": {},
   "outputs": [
    {
     "name": "stdout",
     "output_type": "stream",
     "text": [
      "tensor([[0.],\n",
      "        [0.],\n",
      "        [0.],\n",
      "        [1.],\n",
      "        [0.],\n",
      "        [1.],\n",
      "        [0.],\n",
      "        [1.],\n",
      "        [1.],\n",
      "        [0.]])\n"
     ]
    }
   ],
   "source": [
    "rnn = RNN(vocab_size)\n",
    "\n",
    "for batch in train_loader:\n",
    "    X,y = batch\n",
    "    break\n",
    "\n",
    "print((torch.sigmoid(rnn(X))>0.5).float()[0:10])"
   ]
  },
  {
   "cell_type": "code",
   "execution_count": 96,
   "metadata": {},
   "outputs": [],
   "source": [
    "loss_fn = torch.nn.BCEWithLogitsLoss()\n",
    "optimizer = torch.optim.Adam(params = rnn.parameters(),lr = 0.005)"
   ]
  },
  {
   "cell_type": "code",
   "execution_count": 97,
   "metadata": {},
   "outputs": [
    {
     "name": "stdout",
     "output_type": "stream",
     "text": [
      "Epoch 0\n",
      "------------------\n",
      "Train :: Loss = 0.7057, Accuracy = 52.6255%\n",
      "Test :: Loss = 0.7673, Accuracy = 55.4068%\n",
      "\n",
      "Epoch 1\n",
      "------------------\n",
      "Train :: Loss = 0.6255, Accuracy = 65.0615%\n",
      "Test :: Loss = 0.6109, Accuracy = 65.6250%\n",
      "\n",
      "Epoch 2\n",
      "------------------\n",
      "Train :: Loss = 0.5277, Accuracy = 73.8851%\n",
      "Test :: Loss = 0.5975, Accuracy = 68.2305%\n",
      "\n",
      "Epoch 3\n",
      "------------------\n",
      "Train :: Loss = 0.5115, Accuracy = 75.4476%\n",
      "Test :: Loss = 0.7319, Accuracy = 60.9455%\n",
      "\n",
      "Epoch 4\n",
      "------------------\n",
      "Train :: Loss = 0.4519, Accuracy = 79.6036%\n",
      "Test :: Loss = 0.7096, Accuracy = 65.5930%\n",
      "\n",
      "Epoch 5\n",
      "------------------\n",
      "Train :: Loss = 0.3940, Accuracy = 82.8605%\n",
      "Test :: Loss = 0.6522, Accuracy = 70.1926%\n",
      "\n",
      "Epoch 6\n",
      "------------------\n",
      "Train :: Loss = 0.3977, Accuracy = 82.3969%\n",
      "Test :: Loss = 0.6476, Accuracy = 71.9270%\n",
      "\n",
      "Epoch 7\n",
      "------------------\n",
      "Train :: Loss = 0.3783, Accuracy = 83.6597%\n",
      "Test :: Loss = 0.6567, Accuracy = 69.3614%\n",
      "\n"
     ]
    }
   ],
   "source": [
    "from sklearn.metrics import accuracy_score\n",
    "epochs = 8\n",
    "\n",
    "for epoch in range(epochs):\n",
    "    \n",
    "    train_loss = 0\n",
    "    train_acc = 0\n",
    "\n",
    "    for X, y in train_loader:\n",
    "        optimizer.zero_grad()\n",
    "        rnn.train()\n",
    "\n",
    "        y = y.float().unsqueeze(1)  \n",
    "\n",
    "        y_train_logits = rnn(X)\n",
    "        loss = loss_fn(y_train_logits, y)\n",
    "\n",
    "        y_train_pred = (torch.sigmoid(y_train_logits) > 0.5).float() \n",
    "        loss.backward()\n",
    "        optimizer.step()\n",
    "\n",
    "        train_loss += loss.item()\n",
    "        train_acc += accuracy_score(y, y_train_pred)\n",
    "    \n",
    "    train_loss /= len(train_loader)\n",
    "    train_acc /= len(train_loader)\n",
    "\n",
    "    print(f\"Epoch {epoch}\")\n",
    "    print(\"------------------\")\n",
    "    print(f\"Train :: Loss = {train_loss:.4f}, Accuracy = {train_acc*100:.4f}%\")\n",
    "\n",
    "    rnn.eval()\n",
    "    test_loss = 0\n",
    "    test_acc = 0\n",
    "    with torch.inference_mode():\n",
    "\n",
    "        for X, y in test_loader:\n",
    "\n",
    "            y = y.float().unsqueeze(1) \n",
    "\n",
    "            y_test_logits = rnn(X)\n",
    "            test_loss += loss_fn(y_test_logits, y).item()\n",
    "\n",
    "            y_test_pred = (torch.sigmoid(y_test_logits) > 0.5).float()\n",
    "            test_acc += accuracy_score(y, y_test_pred)\n",
    "        \n",
    "        test_loss /= len(test_loader)\n",
    "        test_acc /= len(test_loader)\n",
    "\n",
    "        y_train_pred = (torch.sigmoid(y_train_logits) > 0.5).float() \n",
    "    \n",
    "    print(f\"Test :: Loss = {test_loss:.4f}, Accuracy = {test_acc*100:.4f}%\\n\")\n",
    "    "
   ]
  },
  {
   "cell_type": "code",
   "execution_count": 100,
   "metadata": {},
   "outputs": [],
   "source": [
    "import pickle\n",
    "torch.save(rnn.state_dict(),f=\"rnn.pth\")\n",
    "# pickle.HIGHEST_PROTOCOL ensures that the most efficient and latest protocol is used.\n",
    "with open(\"tokenizer.pickle\",\"wb\") as handle:\n",
    "    pickle.dump(tokenizer,handle,protocol=pickle.HIGHEST_PROTOCOL)"
   ]
  },
  {
   "cell_type": "code",
   "execution_count": null,
   "metadata": {},
   "outputs": [],
   "source": []
  },
  {
   "cell_type": "code",
   "execution_count": null,
   "metadata": {},
   "outputs": [],
   "source": []
  }
 ],
 "metadata": {
  "kernelspec": {
   "display_name": "GenAI",
   "language": "python",
   "name": "python3"
  },
  "language_info": {
   "codemirror_mode": {
    "name": "ipython",
    "version": 3
   },
   "file_extension": ".py",
   "mimetype": "text/x-python",
   "name": "python",
   "nbconvert_exporter": "python",
   "pygments_lexer": "ipython3",
   "version": "3.12.7"
  }
 },
 "nbformat": 4,
 "nbformat_minor": 2
}
